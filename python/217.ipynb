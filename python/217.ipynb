{
 "cells": [
  {
   "cell_type": "code",
   "execution_count": 1,
   "metadata": {
    "collapsed": true
   },
   "outputs": [],
   "source": [
    "from collections import defaultdict\n",
    "\n",
    "def mult(a, b):\n",
    "    res = defaultdict(int)\n",
    "    for i in a:\n",
    "        for j in b:\n",
    "            res[i+j] += a[i]*b[j]\n",
    "    return res"
   ]
  },
  {
   "cell_type": "code",
   "execution_count": 2,
   "metadata": {
    "collapsed": false
   },
   "outputs": [
    {
     "data": {
      "text/plain": [
       "defaultdict(int, {0: 4, 1: 14, 2: 6})"
      ]
     },
     "execution_count": 2,
     "metadata": {},
     "output_type": "execute_result"
    }
   ],
   "source": [
    "mult({0: 1, 1: 3}, {0: 4, 1: 2})"
   ]
  },
  {
   "cell_type": "code",
   "execution_count": 3,
   "metadata": {
    "collapsed": true
   },
   "outputs": [],
   "source": [
    "def B(n, k):\n",
    "    base = {i: 1 for i in xrange(10)}\n",
    "    res = base.copy()\n",
    "    for i in xrange(k-1):\n",
    "        res = mult(res, base)\n",
    "    return res[n] if n in res else 0"
   ]
  },
  {
   "cell_type": "code",
   "execution_count": 4,
   "metadata": {
    "collapsed": false
   },
   "outputs": [
    {
     "data": {
      "text/plain": [
       "4"
      ]
     },
     "execution_count": 4,
     "metadata": {},
     "output_type": "execute_result"
    }
   ],
   "source": [
    "B(3, 2)"
   ]
  },
  {
   "cell_type": "code",
   "execution_count": 5,
   "metadata": {
    "collapsed": true
   },
   "outputs": [],
   "source": [
    "def A(n, k):\n",
    "    if k==1:\n",
    "        return 1\n",
    "    l = min(n, 9)\n",
    "    res = 0\n",
    "    for i in xrange(1, l+1):\n",
    "        res += B(n-i, k-1)\n",
    "    return res"
   ]
  },
  {
   "cell_type": "code",
   "execution_count": 6,
   "metadata": {
    "collapsed": false
   },
   "outputs": [
    {
     "data": {
      "text/plain": [
       "3"
      ]
     },
     "execution_count": 6,
     "metadata": {},
     "output_type": "execute_result"
    }
   ],
   "source": [
    "A(3, 2)"
   ]
  },
  {
   "cell_type": "code",
   "execution_count": 7,
   "metadata": {
    "collapsed": true
   },
   "outputs": [],
   "source": [
    "def C(k):\n",
    "    res = 0\n",
    "    for n in xrange(1, 9*k+1):\n",
    "        res += A(n, k) * B(n, k)\n",
    "    return res"
   ]
  },
  {
   "cell_type": "code",
   "execution_count": 8,
   "metadata": {
    "collapsed": true
   },
   "outputs": [],
   "source": [
    "# let the sum of first half be Q(k): k digits\n",
    "def D(n, k):\n",
    "    return (B(n, k) * (10**k - 1) * n) / (9 * k)\n",
    "\n",
    "def Q(k):\n",
    "    res = 0\n",
    "    for n in xrange(1, 9*k+1):\n",
    "        res += A(n, k) * D(n, k)\n",
    "    return res"
   ]
  },
  {
   "cell_type": "code",
   "execution_count": 67,
   "metadata": {
    "collapsed": true
   },
   "outputs": [],
   "source": [
    "# & the sum of second half be P(k): k digits\n",
    "def E(n, k):\n",
    "    if k==1:\n",
    "        return n\n",
    "    l = min(n, 9)\n",
    "    res = 0\n",
    "    for i in xrange(1, l+1):\n",
    "        t1 = B(n-i, k-1) * 10**(k-1) * i\n",
    "        t2 = D(n-i, k-1)\n",
    "        res += (t1 + t2)\n",
    "    return res\n",
    "    \n",
    "def P(k):\n",
    "    res = 0\n",
    "    for n in xrange(1, 9*k+1):\n",
    "        res += B(n, k) * E(n, k)\n",
    "    return res"
   ]
  },
  {
   "cell_type": "code",
   "execution_count": 10,
   "metadata": {
    "collapsed": false
   },
   "outputs": [],
   "source": [
    "def S(k):\n",
    "    if k<1:\n",
    "        return 0\n",
    "    elif k==1:\n",
    "        return 45\n",
    "    elif k%2==0:\n",
    "        return P(k/2)*10**(k/2) + Q(k/2)\n",
    "    else:\n",
    "        return 10*P(k/2)*10**(1+k/2) + C(k/2)*45*10**(k/2) + 10*Q(k/2)"
   ]
  },
  {
   "cell_type": "code",
   "execution_count": 11,
   "metadata": {
    "collapsed": false
   },
   "outputs": [],
   "source": [
    "def T(k):\n",
    "    res = 0\n",
    "    for i in xrange(1, k+1):\n",
    "        res += S(i)\n",
    "    return res"
   ]
  },
  {
   "cell_type": "code",
   "execution_count": 12,
   "metadata": {
    "collapsed": false
   },
   "outputs": [
    {
     "name": "stdout",
     "output_type": "stream",
     "text": [
      "4455 4860\n"
     ]
    }
   ],
   "source": [
    "n=9; k=2; print A(n, k) * D(n, k), B(n, k) * E(n, k)"
   ]
  },
  {
   "cell_type": "code",
   "execution_count": 13,
   "metadata": {
    "collapsed": true
   },
   "outputs": [],
   "source": [
    "def sod(n):\n",
    "    res = 0\n",
    "    for i in str(n):\n",
    "        res += int(i)\n",
    "    return res\n",
    "\n",
    "def BAL(k, flag=True):\n",
    "    res1 = defaultdict(int)\n",
    "    res2 = defaultdict(int)\n",
    "    total = 0\n",
    "    idx1 = idx2 = k/2\n",
    "    if k%2:\n",
    "        idx1 = 1 + k/2\n",
    "        idx2 = k/2\n",
    "    for n in xrange(10**(k-1), 10**k):\n",
    "        num = str(n)\n",
    "        sodig1 = sod(num[:idx1])\n",
    "        sodig2 = sod(num[idx2:])\n",
    "        if sodig1==sodig2:\n",
    "            total += n\n",
    "            res1[sodig1] += int(num[:idx1])\n",
    "            res2[sodig2] += int(num[idx2:])\n",
    "    print total"
   ]
  },
  {
   "cell_type": "code",
   "execution_count": 29,
   "metadata": {
    "collapsed": false
   },
   "outputs": [
    {
     "name": "stdout",
     "output_type": "stream",
     "text": [
      "331431000\n"
     ]
    }
   ],
   "source": [
    "BAL(5)"
   ]
  },
  {
   "cell_type": "code",
   "execution_count": 31,
   "metadata": {
    "collapsed": false
   },
   "outputs": [
    {
     "data": {
      "text/plain": [
       "23830484311542600"
      ]
     },
     "execution_count": 31,
     "metadata": {},
     "output_type": "execute_result"
    }
   ],
   "source": [
    "S(9)"
   ]
  },
  {
   "cell_type": "code",
   "execution_count": 71,
   "metadata": {
    "collapsed": false
   },
   "outputs": [
    {
     "data": {
      "text/plain": [
       "12418741L"
      ]
     },
     "execution_count": 71,
     "metadata": {},
     "output_type": "execute_result"
    }
   ],
   "source": [
    "#T(20)\n",
    "154155996434386627570840423223199851200%3**15"
   ]
  },
  {
   "cell_type": "code",
   "execution_count": 33,
   "metadata": {
    "collapsed": false
   },
   "outputs": [
    {
     "data": {
      "text/plain": [
       "11395539L"
      ]
     },
     "execution_count": 33,
     "metadata": {},
     "output_type": "execute_result"
    }
   ],
   "source": [
    "19587943639318412097360%3**15"
   ]
  },
  {
   "cell_type": "code",
   "execution_count": 35,
   "metadata": {
    "collapsed": false
   },
   "outputs": [
    {
     "name": "stdout",
     "output_type": "stream",
     "text": [
      "9\n",
      "615\n",
      "50412\n",
      "4379055\n",
      "392406145\n",
      "35866068766\n",
      "3323483518810\n",
      "311088525668335\n",
      "29344719005694973\n",
      "2785022004925340460\n"
     ]
    }
   ],
   "source": [
    "for i in xrange(1, 11):\n",
    "    print C(i)"
   ]
  },
  {
   "cell_type": "code",
   "execution_count": 68,
   "metadata": {
    "collapsed": false
   },
   "outputs": [
    {
     "name": "stdout",
     "output_type": "stream",
     "text": [
      "10000000 100000000 1000000000 10000000000\n",
      "91111111 1011111111 11111111111 121111111111\n",
      "459999999 5611111110 67222222221 793333333332\n",
      "1699999995 22611111105 293333333326 3726666666658\n",
      "5133333315 73944444420 1032777777746 14054444444404\n",
      "13419999945 208144444365 3114222222111 45196666666515\n",
      "31459999857 522744444222 8341666666333 128613333332848\n",
      "67686666333 1199611110555 20337777776888 331991111109736\n",
      "135849999285 2558111109840 45918888886728 791179999996464\n",
      "257299998570 5131111108410 97229999995138 1763479999991602\n",
      "463698886189 9767999994599 194908999989737 3712559999981339\n"
     ]
    }
   ],
   "source": [
    "for i in xrange(1, 12):\n",
    "    print E(i, 8), E(i, 9), E(i, 10), E(i, 11)"
   ]
  },
  {
   "cell_type": "code",
   "execution_count": 56,
   "metadata": {
    "collapsed": false
   },
   "outputs": [
    {
     "data": {
      "text/plain": [
       "9304301108410"
      ]
     },
     "execution_count": 56,
     "metadata": {},
     "output_type": "execute_result"
    }
   ],
   "source": [
    "9767999994599 - 463698886189"
   ]
  },
  {
   "cell_type": "code",
   "execution_count": 58,
   "metadata": {
    "collapsed": false
   },
   "outputs": [
    {
     "data": {
      "text/plain": [
       "92570499997569"
      ]
     },
     "execution_count": 58,
     "metadata": {},
     "output_type": "execute_result"
    }
   ],
   "source": [
    "(194908999989737 - 9767999994599)/2"
   ]
  },
  {
   "cell_type": "code",
   "execution_count": 66,
   "metadata": {
    "collapsed": false
   },
   "outputs": [
    {
     "name": "stdout",
     "output_type": "stream",
     "text": [
      "49999999999995000000000000 True\n"
     ]
    }
   ],
   "source": [
    "res = 0; k = 13\n",
    "for n in xrange(1, 9*k+1):\n",
    "    res += D(n, k)\n",
    "print res, res==10**k*(10**k-1)/2"
   ]
  },
  {
   "cell_type": "code",
   "execution_count": null,
   "metadata": {
    "collapsed": true
   },
   "outputs": [],
   "source": []
  }
 ],
 "metadata": {
  "kernelspec": {
   "display_name": "Python 2",
   "language": "python",
   "name": "python2"
  },
  "language_info": {
   "codemirror_mode": {
    "name": "ipython",
    "version": 2
   },
   "file_extension": ".py",
   "mimetype": "text/x-python",
   "name": "python",
   "nbconvert_exporter": "python",
   "pygments_lexer": "ipython2",
   "version": "2.7.10"
  }
 },
 "nbformat": 4,
 "nbformat_minor": 0
}
