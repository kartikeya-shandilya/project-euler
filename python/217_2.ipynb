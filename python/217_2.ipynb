{
 "cells": [
  {
   "cell_type": "code",
   "execution_count": 1,
   "metadata": {
    "collapsed": true
   },
   "outputs": [],
   "source": [
    "from collections import defaultdict\n",
    "\n",
    "def mult(a, b):\n",
    "    res = defaultdict(int)\n",
    "    for i in a:\n",
    "        for j in b:\n",
    "            res[i+j] = (res[i+j] + a[i]*b[j])\n",
    "    return res"
   ]
  },
  {
   "cell_type": "code",
   "execution_count": 2,
   "metadata": {
    "collapsed": true
   },
   "outputs": [],
   "source": [
    "cache_B = {}\n",
    "\n",
    "def B(n, k):\n",
    "    if (n, k) in cache_B:\n",
    "        return cache_B[(n, k)]\n",
    "    base = {i: 1 for i in xrange(10)}\n",
    "    res = base.copy()\n",
    "    for i in xrange(k-1):\n",
    "        res = mult(res, base)\n",
    "    cache_B[(n, k)] = res[n] if n in res else 0\n",
    "    return res[n] if n in res else 0"
   ]
  },
  {
   "cell_type": "code",
   "execution_count": 3,
   "metadata": {
    "collapsed": true
   },
   "outputs": [],
   "source": [
    "cache_A = {}\n",
    "\n",
    "def A(n, k):\n",
    "    if (n, k) in cache_A:\n",
    "        return cache_A[(n, k)]\n",
    "    if k==1:\n",
    "        return 1\n",
    "    l = min(n, 9)\n",
    "    res = 0\n",
    "    for i in xrange(1, l+1):\n",
    "        res += B(n-i, k-1)\n",
    "    cache_A[(n, k)] = res\n",
    "    return res"
   ]
  },
  {
   "cell_type": "code",
   "execution_count": 4,
   "metadata": {
    "collapsed": false
   },
   "outputs": [
    {
     "data": {
      "text/plain": [
       "3"
      ]
     },
     "execution_count": 4,
     "metadata": {},
     "output_type": "execute_result"
    }
   ],
   "source": [
    "A(3, 2)"
   ]
  },
  {
   "cell_type": "code",
   "execution_count": 5,
   "metadata": {
    "collapsed": true
   },
   "outputs": [],
   "source": [
    "def C(k):\n",
    "    res = 0\n",
    "    for n in xrange(1, 9*k+1):\n",
    "        res += A(n, k) * B(n, k)\n",
    "    return res"
   ]
  },
  {
   "cell_type": "code",
   "execution_count": 6,
   "metadata": {
    "collapsed": true
   },
   "outputs": [],
   "source": [
    "# let the sum of first half be Q(k): k digits\n",
    "def D(n, k):\n",
    "    return (B(n, k) * (10**k - 1) * n) / (9 * k)\n",
    "\n",
    "def Q(k):\n",
    "    res = 0\n",
    "    for n in xrange(1, 9*k+1):\n",
    "        res += A(n, k) * D(n, k)\n",
    "    return res"
   ]
  },
  {
   "cell_type": "code",
   "execution_count": 7,
   "metadata": {
    "collapsed": true
   },
   "outputs": [],
   "source": [
    "# & the sum of second half be P(k): k digits\n",
    "def E(n, k):\n",
    "    if k==1:\n",
    "        return n\n",
    "    l = min(n, 9)\n",
    "    res = 0\n",
    "    for i in xrange(1, l+1):\n",
    "        t1 = B(n-i, k-1) * 10**(k-1) * i\n",
    "        t2 = (B(n-i, k-1) * (10**(k-1)-1) * (n-i)) / (9 * (k-1))\n",
    "        res = (res + (t1 + t2))\n",
    "    return res\n",
    "    \n",
    "def P(k):\n",
    "    res = 0\n",
    "    for n in xrange(1, 9*k+1):\n",
    "        res += B(n, k) * E(n, k)\n",
    "    return res"
   ]
  },
  {
   "cell_type": "code",
   "execution_count": 8,
   "metadata": {
    "collapsed": false
   },
   "outputs": [],
   "source": [
    "def S(k):\n",
    "    if k<1:\n",
    "        return 0\n",
    "    elif k==1:\n",
    "        return 45\n",
    "    elif k%2==0:\n",
    "        return (P(k/2)*10**(k/2) + Q(k/2))\n",
    "    else:\n",
    "        return (10*P(k/2)*10**(1+k/2) + C(k/2)*45*10**(k/2) + 10*Q(k/2))"
   ]
  },
  {
   "cell_type": "code",
   "execution_count": 9,
   "metadata": {
    "collapsed": false
   },
   "outputs": [],
   "source": [
    "def T(k):\n",
    "    res = 0\n",
    "    for i in xrange(1, k+1):\n",
    "        res = (res + S(i))\n",
    "    return res"
   ]
  },
  {
   "cell_type": "code",
   "execution_count": 10,
   "metadata": {
    "collapsed": false
   },
   "outputs": [
    {
     "name": "stdout",
     "output_type": "stream",
     "text": [
      "4455 4860\n"
     ]
    }
   ],
   "source": [
    "n=9; k=2; print A(n, k) * D(n, k), B(n, k) * E(n, k)"
   ]
  },
  {
   "cell_type": "code",
   "execution_count": 11,
   "metadata": {
    "collapsed": true
   },
   "outputs": [],
   "source": [
    "def sod(n):\n",
    "    res = 0\n",
    "    for i in str(n):\n",
    "        res += int(i)\n",
    "    return res\n",
    "\n",
    "def BAL(k, flag=True):\n",
    "    res1 = defaultdict(int)\n",
    "    res2 = defaultdict(int)\n",
    "    total = 0\n",
    "    idx1 = idx2 = k/2\n",
    "    if k%2:\n",
    "        idx1 = 1 + k/2\n",
    "        idx2 = k/2\n",
    "    for n in xrange(10**(k-1), 10**k):\n",
    "        num = str(n)\n",
    "        sodig1 = sod(num[:idx1])\n",
    "        sodig2 = sod(num[idx2:])\n",
    "        if sodig1==sodig2:\n",
    "            total += n\n",
    "            res1[sodig1] += int(num[:idx1])\n",
    "            res2[sodig2] += int(num[idx2:])\n",
    "    return total"
   ]
  },
  {
   "cell_type": "code",
   "execution_count": 12,
   "metadata": {
    "collapsed": false
   },
   "outputs": [
    {
     "data": {
      "text/plain": [
       "1406139"
      ]
     },
     "execution_count": 12,
     "metadata": {},
     "output_type": "execute_result"
    }
   ],
   "source": [
    "BAL(5)%3**15"
   ]
  },
  {
   "cell_type": "code",
   "execution_count": 16,
   "metadata": {
    "collapsed": false
   },
   "outputs": [
    {
     "data": {
      "text/plain": [
       "6273134L"
      ]
     },
     "execution_count": 16,
     "metadata": {},
     "output_type": "execute_result"
    }
   ],
   "source": [
    "T(47)%3**15"
   ]
  },
  {
   "cell_type": "code",
   "execution_count": 14,
   "metadata": {
    "collapsed": false
   },
   "outputs": [
    {
     "name": "stdout",
     "output_type": "stream",
     "text": [
      "1 45\n",
      "2 540\n",
      "3 50040\n",
      "4 3364890\n",
      "5 334795890\n",
      "6 27671338200\n",
      "7 2761284321300\n",
      "8 241066406350560\n",
      "9 24071550717893160\n",
      "10 2164109364980520560\n",
      "11 216167870783354294560\n",
      "12 19804111510101766391920\n",
      "13 1978598460245429017365520\n",
      "14 183672136030518949796846320\n",
      "15 18353025881017137973091654320\n",
      "16 1720353661818856942594945680520\n",
      "17 171920417245759403245505985942520\n",
      "18 16236214366938056357779158848446240\n",
      "19 1622665609327926036021507102473483440\n",
      "20 154155996434386627570840423223199851200\n",
      "21 15407489078933225012048895393430463528800\n",
      "22 1470800817689557874128538413139763862454650\n",
      "23 147010133678745931362966469022535597851713150\n",
      "24 14089673943899508692768697215967669663761707150\n",
      "25 1408356054965970441361634463351798760322861647150\n",
      "26 135432852909423645346246452582184362999947858859400\n",
      "27 13537882538355186398852215254360427691646197830981900\n",
      "28 1305589329059536918375995134551985046005844279303484560\n",
      "29 130510733981177705878953201021244062660649825094028511160\n"
     ]
    }
   ],
   "source": [
    "for i in xrange(1, 30):\n",
    "    print i, T(i)"
   ]
  },
  {
   "cell_type": "code",
   "execution_count": 15,
   "metadata": {
    "collapsed": false
   },
   "outputs": [
    {
     "data": {
      "text/plain": [
       "12418741L"
      ]
     },
     "execution_count": 15,
     "metadata": {},
     "output_type": "execute_result"
    }
   ],
   "source": [
    "154155996434386627570840423223199851200%3**15"
   ]
  },
  {
   "cell_type": "code",
   "execution_count": null,
   "metadata": {
    "collapsed": true
   },
   "outputs": [],
   "source": []
  },
  {
   "cell_type": "code",
   "execution_count": null,
   "metadata": {
    "collapsed": true
   },
   "outputs": [],
   "source": []
  }
 ],
 "metadata": {
  "kernelspec": {
   "display_name": "Python 2",
   "language": "python",
   "name": "python2"
  },
  "language_info": {
   "codemirror_mode": {
    "name": "ipython",
    "version": 2
   },
   "file_extension": ".py",
   "mimetype": "text/x-python",
   "name": "python",
   "nbconvert_exporter": "python",
   "pygments_lexer": "ipython2",
   "version": "2.7.10"
  }
 },
 "nbformat": 4,
 "nbformat_minor": 0
}
